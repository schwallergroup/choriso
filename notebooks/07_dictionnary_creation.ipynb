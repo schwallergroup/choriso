{
 "cells": [
  {
   "cell_type": "markdown",
   "metadata": {},
   "source": [
    "# Creation of the translation dictionary"
   ]
  },
  {
   "cell_type": "code",
   "execution_count": null,
   "metadata": {},
   "outputs": [],
   "source": [
    "import pandas as pd\n",
    "import rdkit\n",
    "from rdkit import Chem\n",
    "from rdkit.Chem import AllChem"
   ]
  },
  {
   "cell_type": "markdown",
   "metadata": {},
   "source": [
    "## Create list of unique compounds and their occurrences"
   ]
  },
  {
   "cell_type": "markdown",
   "metadata": {},
   "source": [
    "### Reading raw data"
   ]
  },
  {
   "cell_type": "code",
   "execution_count": null,
   "metadata": {},
   "outputs": [],
   "source": [
    "# load original data\n",
    "cjhif = pd.read_csv(\"../data/raw/data_from_CJHIF_utf8\", sep=\"\\t\", header=None)\n",
    "# Fill NaN with empty strings\n",
    "cjhif.fillna(\"empty\", inplace=True)\n",
    "# Drop columns 1 and 2\n",
    "cjhif.drop(labels=[1, 2], axis=1, inplace=True)\n",
    "# Rename columns\n",
    "cjhif.rename(\n",
    "    columns={\n",
    "        0: \"rxn_smiles\",\n",
    "        3: \"reagent\",\n",
    "        4: \"solvent\",\n",
    "        5: \"catalyst\",\n",
    "        6: \"yield\",\n",
    "    },\n",
    "    inplace=True,\n",
    ")"
   ]
  },
  {
   "cell_type": "code",
   "execution_count": null,
   "metadata": {},
   "outputs": [],
   "source": [
    "# Merge the reagent, solvent and catalyst columns into one column\n",
    "cjhif[\"all_compounds\"] = (\n",
    "    cjhif[\"reagent\"].astype(str)\n",
    "    + \"|\"\n",
    "    + cjhif[\"catalyst\"].astype(str)\n",
    "    + \"|\"\n",
    "    + cjhif[\"solvent\"].astype(str)\n",
    ")"
   ]
  },
  {
   "cell_type": "code",
   "execution_count": null,
   "metadata": {},
   "outputs": [],
   "source": [
    "all_compounds = (\n",
    "    cjhif[\"all_compounds\"].str.split(\"|\").explode().reset_index(drop=True)\n",
    ")\n",
    "all_compounds = all_compounds[all_compounds != \"empty\"]\n",
    "compound_counts = all_compounds.value_counts().reset_index()\n",
    "compound_counts.columns = [\"Compound\", \"Occurrences\"]\n",
    "compound_counts = compound_counts.sort_values(by=\"Compound\").reset_index(\n",
    "    drop=True\n",
    ")"
   ]
  },
  {
   "cell_type": "code",
   "execution_count": null,
   "metadata": {},
   "outputs": [],
   "source": [
    "compound_counts = all_compounds.value_counts().reset_index()\n",
    "compound_counts.columns = [\"Compound\", \"Occurrences\"]\n",
    "compound_counts = compound_counts.sort_values(by=\"Compound\").reset_index(\n",
    "    drop=True\n",
    ")"
   ]
  },
  {
   "cell_type": "code",
   "execution_count": null,
   "metadata": {},
   "outputs": [],
   "source": [
    "print(f\"There are {len(compound_counts)} unique compounds in the dataset.\")"
   ]
  },
  {
   "cell_type": "code",
   "execution_count": null,
   "metadata": {},
   "outputs": [],
   "source": [
    "# Save the data in a tsv file\n",
    "compound_counts.to_csv(\n",
    "    \"../data/helper/cjhif_translation_table.tsv\", sep=\"\\t\", index=False\n",
    ")"
   ]
  },
  {
   "cell_type": "markdown",
   "metadata": {},
   "source": [
    "## Translate each compound name to SMILES using PubChem API and py2opsin"
   ]
  },
  {
   "cell_type": "code",
   "execution_count": null,
   "metadata": {},
   "outputs": [],
   "source": [
    "import pubchempy as pcp  # pip install pubchempy\n",
    "from py2opsin import py2opsin  # pip install py2opsin"
   ]
  },
  {
   "cell_type": "code",
   "execution_count": null,
   "metadata": {},
   "outputs": [],
   "source": [
    "# Functions for PubChem and py2opsin translation\n",
    "\n",
    "\n",
    "def query_opsin_pubchem(name: str) -> str:\n",
    "    \"\"\"Query name of compound in OpSin and if it fails query PubChem\"\"\"\n",
    "\n",
    "    query = py2opsin(name)\n",
    "\n",
    "    if query == \"\":\n",
    "        query = pcp.get_compounds(name, \"name\")\n",
    "        if query == []:\n",
    "            return \"empty\"\n",
    "        else:\n",
    "            return query[0].isomeric_smiles\n",
    "    else:\n",
    "        return query\n",
    "\n",
    "\n",
    "def get_smiles_opsin_pubchem(name: str, format_bond=True) -> str:\n",
    "    \"\"\"Get SMILES string from OpSin and if it fails query PubChem\n",
    "\n",
    "    Args:\n",
    "        name (str): name of compound\n",
    "        format_bond (bool): if True, replace '.' with '~' in SMILES string\n",
    "\n",
    "    Returns:\n",
    "        str: SMILES string\n",
    "    \"\"\"\n",
    "\n",
    "    names = name.split(\"|\")\n",
    "\n",
    "    structures = {str(query_opsin_pubchem(name)) for name in names}\n",
    "    structures.discard(\"None\")\n",
    "    structures.discard(\"\")\n",
    "\n",
    "    if format_bond:\n",
    "        structures = [structure.replace(\".\", \"~\") for structure in structures]\n",
    "\n",
    "    structures = \".\".join(structures)\n",
    "\n",
    "    return structures"
   ]
  },
  {
   "cell_type": "code",
   "execution_count": null,
   "metadata": {},
   "outputs": [],
   "source": [
    "# Translate the compounds to SMILES strings\n",
    "# [WARNING] : This takes a long time to run, the translation dictionnary is already provided in the dataset folder.\n",
    "\n",
    "\n",
    "compound_counts[\"SMILES\"] = compound_counts[\"Compound\"].apply(\n",
    "    get_smiles_opsin_pubchem\n",
    ")"
   ]
  },
  {
   "cell_type": "code",
   "execution_count": null,
   "metadata": {},
   "outputs": [],
   "source": [
    "# save the translation table\n",
    "compound_counts = compound_counts[compound_counts[\"Compound\"] != \"empty\"]\n",
    "compound_counts.to_csv(\n",
    "    \"../data/helper/cjhif_translation_table.tsv\", sep=\"\\t\", index=False\n",
    ")"
   ]
  },
  {
   "cell_type": "code",
   "execution_count": null,
   "metadata": {},
   "outputs": [],
   "source": []
  }
 ],
 "metadata": {
  "kernelspec": {
   "display_name": "chiralcleaner",
   "language": "python",
   "name": "python3"
  },
  "language_info": {
   "codemirror_mode": {
    "name": "ipython",
    "version": 3
   },
   "file_extension": ".py",
   "mimetype": "text/x-python",
   "name": "python",
   "nbconvert_exporter": "python",
   "pygments_lexer": "ipython3",
   "version": "3.10.12"
  }
 },
 "nbformat": 4,
 "nbformat_minor": 2
}
