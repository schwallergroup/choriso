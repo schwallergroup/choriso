{
 "cells": [
  {
   "cell_type": "markdown",
   "metadata": {},
   "source": [
    "# Cleaning of CJHIF dataset"
   ]
  },
  {
   "cell_type": "markdown",
   "metadata": {},
   "source": [
    "This Notebook is used for the manual correction of name to SMILES that could not be translated with PubChemPy or py2opsin."
   ]
  },
  {
   "cell_type": "markdown",
   "metadata": {},
   "source": [
    "## Manual correction of names to SMILES by occurrence."
   ]
  },
  {
   "cell_type": "markdown",
   "metadata": {},
   "source": [
    "### Load datasets"
   ]
  },
  {
   "cell_type": "code",
   "execution_count": null,
   "metadata": {},
   "outputs": [],
   "source": [
    "import pandas as pd\n",
    "import rdkit\n",
    "from rdkit import Chem\n",
    "from rdkit.Chem import AllChem"
   ]
  },
  {
   "cell_type": "code",
   "execution_count": null,
   "metadata": {},
   "outputs": [],
   "source": [
    "# Load the translation table in a pandas dataframe\n",
    "df = pd.read_csv(\"../data/helper/cjhif_translation_table.tsv\", sep=\"\\t\")\n",
    "print(f\"There are {len(df)} compounds in the translation table.\")"
   ]
  },
  {
   "cell_type": "code",
   "execution_count": null,
   "metadata": {},
   "outputs": [],
   "source": [
    "# Load the correction table, assuming the file exists\n",
    "df_correction = pd.read_csv(\"../data/helper/corrected_pubchem.tsv\", sep=\"\\t\")\n",
    "print(f\"There are {len(df_correction)} compounds in the correction table.\")"
   ]
  },
  {
   "cell_type": "markdown",
   "metadata": {},
   "source": [
    "### Manually correct a name to SMILES"
   ]
  },
  {
   "cell_type": "code",
   "execution_count": null,
   "metadata": {},
   "outputs": [],
   "source": [
    "new_data = [\"NAME_HERE\", \"SMILES_HERE\"]\n",
    "df_correction.loc[len(df_correction)] = new_data\n",
    "print(f\"{new_data[0]} has been added to the correction table.\")"
   ]
  },
  {
   "cell_type": "code",
   "execution_count": null,
   "metadata": {},
   "outputs": [],
   "source": [
    "# Save the file and reload it\n",
    "df_correction.to_csv(\n",
    "    \"../data/helper/corrected_pubchem.tsv\", sep=\"\\t\", index=False\n",
    ")\n",
    "df_correction = pd.read_csv(\"../data/helper/corrected_pubchem.tsv\", sep=\"\\t\")"
   ]
  },
  {
   "cell_type": "markdown",
   "metadata": {},
   "source": [
    "### Visualization of the non-translated names"
   ]
  },
  {
   "cell_type": "code",
   "execution_count": null,
   "metadata": {},
   "outputs": [],
   "source": [
    "# Extract the non-translated compounds\n",
    "empty_pubchem_iso = df[df[\"pubchem_isosmiles\"] == \"empty\"]\n",
    "empty_pubchem_iso = empty_pubchem_iso[empty_pubchem_iso[\"Compound\"] != \"empty\"]\n",
    "\n",
    "# remove the raw if the name is in df_correction[0]\n",
    "for i in df_correction[\"Name\"]:\n",
    "    empty_pubchem_iso = empty_pubchem_iso[empty_pubchem_iso[\"Compound\"] != i]"
   ]
  },
  {
   "cell_type": "code",
   "execution_count": null,
   "metadata": {},
   "outputs": [],
   "source": [
    "import matplotlib.pyplot as plt\n",
    "import pandas as pd\n",
    "\n",
    "\n",
    "def plot_top_compounds(df: pd.DataFrame, top_N: int = 30):\n",
    "    data = dict(zip(df[\"Compound\"], df[\"Occurrences\"]))\n",
    "\n",
    "    sorted_data = sorted(data.items(), key=lambda x: x[1], reverse=True)\n",
    "\n",
    "    top_compounds = sorted_data[:top_N]\n",
    "    labels, values = zip(*top_compounds)\n",
    "\n",
    "    plt.figure(figsize=(15, 7))\n",
    "    plt.bar(labels, values, color=\"#5402A3\")\n",
    "    plt.xticks(rotation=45, ha=\"right\")\n",
    "    plt.ylabel(\"Occurrences\")\n",
    "    plt.title(f\"Top {top_N} Most Common Compounds\")\n",
    "    plt.tight_layout()\n",
    "    plt.show()\n",
    "\n",
    "    for i, (compound, occurrence) in enumerate(top_compounds, start=1):\n",
    "        print(f\"{i}. {compound}: {occurrence}\")\n",
    "\n",
    "\n",
    "plot_top_compounds(empty_pubchem_iso, top_N=60)"
   ]
  },
  {
   "cell_type": "markdown",
   "metadata": {},
   "source": [
    "### Manual correction of chiral reagents and catalysts"
   ]
  },
  {
   "cell_type": "code",
   "execution_count": null,
   "metadata": {},
   "outputs": [],
   "source": [
    "# Selecting compound only with +, -, (r) or (s) in the name\n",
    "\n",
    "\n",
    "def select_compound(df: pd.DataFrame):\n",
    "    df = df[\n",
    "        df[\"Compound\"].str.contains(\"\\(\\+\\)\")\n",
    "        | df[\"Compound\"].str.contains(\"\\(\\-\\)\")\n",
    "        | df[\"Compound\"].str.contains(\"\\(r\\)\")\n",
    "        | df[\"Compound\"].str.contains(\"\\(s\\)\")\n",
    "    ]\n",
    "    return df\n",
    "\n",
    "\n",
    "empty_pubchem_chiral = select_compound(empty_pubchem_iso)\n",
    "empty_pubchem_chiral[empty_pubchem_chiral[\"Occurrences\"] > 50]"
   ]
  },
  {
   "cell_type": "markdown",
   "metadata": {},
   "source": [
    "## Clustering "
   ]
  },
  {
   "cell_type": "markdown",
   "metadata": {},
   "source": [
    "Here we will cluster the names that were not translated using the DBSCAN algorithm. Once the names are clustered, we corrected them manually starting from the cluster that have the most occurrence."
   ]
  },
  {
   "cell_type": "code",
   "execution_count": null,
   "metadata": {},
   "outputs": [],
   "source": [
    "# This takes about 10 minutes to run\n",
    "\n",
    "import ast\n",
    "\n",
    "import numpy as np\n",
    "import pandas as pd\n",
    "from fuzzywuzzy import fuzz\n",
    "from sklearn.cluster import DBSCAN\n",
    "\n",
    "\n",
    "def get_similarity_matrix(compounds):\n",
    "    num_compounds = len(compounds)\n",
    "    similarity_matrix = np.zeros((num_compounds, num_compounds))\n",
    "    for i in range(num_compounds):\n",
    "        for j in range(i, num_compounds):\n",
    "            similarity = fuzz.ratio(compounds[i], compounds[j])\n",
    "            similarity_matrix[i, j] = similarity_matrix[j, i] = similarity\n",
    "    return similarity_matrix\n",
    "\n",
    "\n",
    "compounds = empty_pubchem_iso[\"Compound\"].tolist()\n",
    "similarity_matrix = get_similarity_matrix(compounds)\n",
    "\n",
    "distance_matrix = 1 - similarity_matrix / 100.0\n",
    "\n",
    "db = DBSCAN(eps=0.1, min_samples=1, metric=\"precomputed\")\n",
    "clusters = db.fit_predict(distance_matrix)\n",
    "empty_pubchem_iso[\"cluster\"] = clusters\n",
    "\n",
    "\n",
    "clustered_data = (\n",
    "    empty_pubchem_iso.groupby(\"cluster\")\n",
    "    .agg(\n",
    "        Total_Occurrences=(\"Occurrences\", \"sum\"),\n",
    "        Compound_List=(\"Compound\", list),\n",
    "        Num_Compounds=(\"Compound\", \"count\"),\n",
    "    )\n",
    "    .sort_values(by=\"Total_Occurrences\", ascending=False)\n",
    "    .reset_index()\n",
    ")\n",
    "\n",
    "# save results\n",
    "clustered_data.to_csv(\"clustered_data.csv\", index=False)"
   ]
  },
  {
   "cell_type": "code",
   "execution_count": null,
   "metadata": {},
   "outputs": [],
   "source": [
    "clustered_data = pd.read_csv(\"clustered_data.csv\")"
   ]
  },
  {
   "cell_type": "code",
   "execution_count": null,
   "metadata": {},
   "outputs": [],
   "source": [
    "# Show the most total occurrences clusters\n",
    "clustered_data.head(10)"
   ]
  },
  {
   "cell_type": "code",
   "execution_count": null,
   "metadata": {},
   "outputs": [],
   "source": [
    "# Show the compounds in a cluster by dataframe index\n",
    "cluster_index = 1\n",
    "print(ast.literal_eval(clustered_data[\"Compound_List\"][cluster_index]))"
   ]
  },
  {
   "cell_type": "code",
   "execution_count": null,
   "metadata": {},
   "outputs": [],
   "source": [
    "# Add names and SMILES to the correction table\n",
    "\n",
    "new_smiles = \"NEW_SMILES_HERE\"\n",
    "cluster_index = 1\n",
    "for k in ast.literal_eval(clustered_data[\"Compound_List\"][cluster_index]):\n",
    "    new_data = [k, new_smiles]\n",
    "    df_correction.loc[len(df_correction)] = new_data\n",
    "\n",
    "clustered_data.drop(index=index, inplace=True)\n",
    "df_correction.to_csv(\"corrected_pubchem.tsv\", sep=\"\\t\", index=False)\n",
    "df_correction = pd.read_csv(\"../data/helper/corrected_pubchem.tsv\", sep=\"\\t\")\n",
    "print(\"Dataset updated and saved.\")"
   ]
  },
  {
   "cell_type": "code",
   "execution_count": null,
   "metadata": {},
   "outputs": [],
   "source": []
  }
 ],
 "metadata": {
  "kernelspec": {
   "display_name": "chiralcleaner",
   "language": "python",
   "name": "python3"
  },
  "language_info": {
   "codemirror_mode": {
    "name": "ipython",
    "version": 3
   },
   "file_extension": ".py",
   "mimetype": "text/x-python",
   "name": "python",
   "nbconvert_exporter": "python",
   "pygments_lexer": "ipython3",
   "version": "3.10.12"
  }
 },
 "nbformat": 4,
 "nbformat_minor": 2
}
