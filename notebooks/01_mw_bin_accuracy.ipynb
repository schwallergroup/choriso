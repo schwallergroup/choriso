{
 "cells": [
  {
   "cell_type": "markdown",
   "metadata": {},
   "source": [
    "## Checking molar weight bin effect on top-1 accuracy"
   ]
  },
  {
   "cell_type": "code",
   "execution_count": 1,
   "metadata": {},
   "outputs": [],
   "source": [
    "import numpy as np\n",
    "import pandas as pd\n",
    "from rdkit import Chem\n",
    "from rdkit.Chem import AllChem\n",
    "from rdkit.Chem.Descriptors import MolWt"
   ]
  },
  {
   "cell_type": "markdown",
   "metadata": {},
   "source": [
    "Load high molar weight splits predictions"
   ]
  },
  {
   "cell_type": "code",
   "execution_count": 2,
   "metadata": {},
   "outputs": [],
   "source": [
    "transformer_high = pd.read_csv(\"../data/predictions/transformer_high.csv\")\n",
    "graph2smiles_high = pd.read_csv(\"../data/predictions/graph2smiles_high.csv\")"
   ]
  },
  {
   "cell_type": "markdown",
   "metadata": {},
   "source": [
    "Define bin count function"
   ]
  },
  {
   "cell_type": "code",
   "execution_count": 3,
   "metadata": {},
   "outputs": [],
   "source": [
    "def bin_mw_count(df, bins):\n",
    "    df[\"target_mw\"] = df[\"target\"].apply(\n",
    "        lambda x: MolWt(Chem.MolFromSmiles(x)) if Chem.MolFromSmiles(x) else 1000\n",
    "    )\n",
    "    results = []\n",
    "\n",
    "    for i, row in df.iterrows():\n",
    "        results.append(row[\"target\"] == row[\"pred_0\"])\n",
    "\n",
    "    df[\"correct\"] = results\n",
    "\n",
    "    mw_acc = df.groupby(pd.cut(df[\"target_mw\"], bins)).apply(\n",
    "        lambda x: x[\"correct\"].sum() / len(x) * 100\n",
    "    )\n",
    "\n",
    "    return mw_acc"
   ]
  },
  {
   "cell_type": "markdown",
   "metadata": {},
   "source": [
    "Create bins and count number of samples in each bin for high mw splits"
   ]
  },
  {
   "cell_type": "code",
   "execution_count": 4,
   "metadata": {},
   "outputs": [],
   "source": [
    "mw_bins = [700, 800, 900, 1000, 1100, 1200, 5000]\n",
    "\n",
    "accs = pd.DataFrame()\n",
    "\n",
    "for i in (transformer_high, graph2smiles_high):\n",
    "    x = bin_mw_count(i, mw_bins)\n",
    "    # concatenate series to dataframe\n",
    "    accs = pd.concat([accs, x], axis=1)"
   ]
  },
  {
   "cell_type": "code",
   "execution_count": 5,
   "metadata": {},
   "outputs": [
    {
     "data": {
      "text/html": [
       "<div>\n",
       "<style scoped>\n",
       "    .dataframe tbody tr th:only-of-type {\n",
       "        vertical-align: middle;\n",
       "    }\n",
       "\n",
       "    .dataframe tbody tr th {\n",
       "        vertical-align: top;\n",
       "    }\n",
       "\n",
       "    .dataframe thead th {\n",
       "        text-align: right;\n",
       "    }\n",
       "</style>\n",
       "<table border=\"1\" class=\"dataframe\">\n",
       "  <thead>\n",
       "    <tr style=\"text-align: right;\">\n",
       "      <th></th>\n",
       "      <th>Transformer</th>\n",
       "      <th>Graph2Smiles</th>\n",
       "    </tr>\n",
       "  </thead>\n",
       "  <tbody>\n",
       "    <tr>\n",
       "      <th>700</th>\n",
       "      <td>56.909395</td>\n",
       "      <td>59.470964</td>\n",
       "    </tr>\n",
       "    <tr>\n",
       "      <th>800</th>\n",
       "      <td>24.408319</td>\n",
       "      <td>48.003825</td>\n",
       "    </tr>\n",
       "    <tr>\n",
       "      <th>900</th>\n",
       "      <td>4.956214</td>\n",
       "      <td>36.370412</td>\n",
       "    </tr>\n",
       "    <tr>\n",
       "      <th>1000</th>\n",
       "      <td>1.121138</td>\n",
       "      <td>25.266612</td>\n",
       "    </tr>\n",
       "    <tr>\n",
       "      <th>1100</th>\n",
       "      <td>0.199760</td>\n",
       "      <td>13.543748</td>\n",
       "    </tr>\n",
       "    <tr>\n",
       "      <th>1200</th>\n",
       "      <td>0.044352</td>\n",
       "      <td>3.134240</td>\n",
       "    </tr>\n",
       "  </tbody>\n",
       "</table>\n",
       "</div>"
      ],
      "text/plain": [
       "      Transformer  Graph2Smiles\n",
       "700     56.909395     59.470964\n",
       "800     24.408319     48.003825\n",
       "900      4.956214     36.370412\n",
       "1000     1.121138     25.266612\n",
       "1100     0.199760     13.543748\n",
       "1200     0.044352      3.134240"
      ]
     },
     "execution_count": 5,
     "metadata": {},
     "output_type": "execute_result"
    }
   ],
   "source": [
    "accs.columns = [\"Transformer\", \"Graph2Smiles\"]\n",
    "\n",
    "accs.index = mw_bins[:-1]\n",
    "accs"
   ]
  },
  {
   "cell_type": "code",
   "execution_count": 6,
   "metadata": {},
   "outputs": [],
   "source": [
    "# melt dataframe\n",
    "accs_full = accs.melt(ignore_index=False)\n",
    "\n",
    "accs_full.columns = [\"model\", \"accuracy\"]"
   ]
  },
  {
   "cell_type": "code",
   "execution_count": 12,
   "metadata": {},
   "outputs": [
    {
     "data": {
      "text/html": [
       "<div>\n",
       "<style scoped>\n",
       "    .dataframe tbody tr th:only-of-type {\n",
       "        vertical-align: middle;\n",
       "    }\n",
       "\n",
       "    .dataframe tbody tr th {\n",
       "        vertical-align: top;\n",
       "    }\n",
       "\n",
       "    .dataframe thead th {\n",
       "        text-align: right;\n",
       "    }\n",
       "</style>\n",
       "<table border=\"1\" class=\"dataframe\">\n",
       "  <thead>\n",
       "    <tr style=\"text-align: right;\">\n",
       "      <th></th>\n",
       "      <th>model</th>\n",
       "      <th>accuracy</th>\n",
       "    </tr>\n",
       "  </thead>\n",
       "  <tbody>\n",
       "    <tr>\n",
       "      <th>700</th>\n",
       "      <td>Transformer</td>\n",
       "      <td>56.909395</td>\n",
       "    </tr>\n",
       "    <tr>\n",
       "      <th>800</th>\n",
       "      <td>Transformer</td>\n",
       "      <td>24.408319</td>\n",
       "    </tr>\n",
       "    <tr>\n",
       "      <th>900</th>\n",
       "      <td>Transformer</td>\n",
       "      <td>4.956214</td>\n",
       "    </tr>\n",
       "    <tr>\n",
       "      <th>1000</th>\n",
       "      <td>Transformer</td>\n",
       "      <td>1.121138</td>\n",
       "    </tr>\n",
       "    <tr>\n",
       "      <th>1100</th>\n",
       "      <td>Transformer</td>\n",
       "      <td>0.199760</td>\n",
       "    </tr>\n",
       "    <tr>\n",
       "      <th>1200</th>\n",
       "      <td>Transformer</td>\n",
       "      <td>0.044352</td>\n",
       "    </tr>\n",
       "    <tr>\n",
       "      <th>700</th>\n",
       "      <td>Graph2Smiles</td>\n",
       "      <td>59.470964</td>\n",
       "    </tr>\n",
       "    <tr>\n",
       "      <th>800</th>\n",
       "      <td>Graph2Smiles</td>\n",
       "      <td>48.003825</td>\n",
       "    </tr>\n",
       "    <tr>\n",
       "      <th>900</th>\n",
       "      <td>Graph2Smiles</td>\n",
       "      <td>36.370412</td>\n",
       "    </tr>\n",
       "    <tr>\n",
       "      <th>1000</th>\n",
       "      <td>Graph2Smiles</td>\n",
       "      <td>25.266612</td>\n",
       "    </tr>\n",
       "    <tr>\n",
       "      <th>1100</th>\n",
       "      <td>Graph2Smiles</td>\n",
       "      <td>13.543748</td>\n",
       "    </tr>\n",
       "    <tr>\n",
       "      <th>1200</th>\n",
       "      <td>Graph2Smiles</td>\n",
       "      <td>3.134240</td>\n",
       "    </tr>\n",
       "  </tbody>\n",
       "</table>\n",
       "</div>"
      ],
      "text/plain": [
       "             model   accuracy\n",
       "700    Transformer  56.909395\n",
       "800    Transformer  24.408319\n",
       "900    Transformer   4.956214\n",
       "1000   Transformer   1.121138\n",
       "1100   Transformer   0.199760\n",
       "1200   Transformer   0.044352\n",
       "700   Graph2Smiles  59.470964\n",
       "800   Graph2Smiles  48.003825\n",
       "900   Graph2Smiles  36.370412\n",
       "1000  Graph2Smiles  25.266612\n",
       "1100  Graph2Smiles  13.543748\n",
       "1200  Graph2Smiles   3.134240"
      ]
     },
     "execution_count": 12,
     "metadata": {},
     "output_type": "execute_result"
    }
   ],
   "source": [
    "accs_full"
   ]
  },
  {
   "cell_type": "markdown",
   "metadata": {},
   "source": [
    "Plot bin count"
   ]
  },
  {
   "cell_type": "code",
   "execution_count": 37,
   "metadata": {},
   "outputs": [
    {
     "data": {
      "image/png": "[encoded data removed]",
      "text/plain": [
       "<Figure size 640x480 with 1 Axes>"
      ]
     },
     "metadata": {},
     "output_type": "display_data"
    }
   ],
   "source": [
    "import matplotlib.pyplot as plt\n",
    "import seaborn as sns\n",
    "\n",
    "fig, ax = plt.subplots()\n",
    "sns.barplot(\n",
    "    data=accs_full,\n",
    "    y=\"accuracy\",\n",
    "    x=accs_full.index,\n",
    "    hue=\"model\",\n",
    "    palette={\"Transformer\": \"#DB5B68\", \"Graph2Smiles\": \"#8B0AA5\"},\n",
    ")\n",
    "plt.ylabel(\"\")\n",
    "# plt.xlabel('MW range (g/mol)')\n",
    "plt.ylim((0, 75))\n",
    "# set xtick labels\n",
    "ax.set_xticklabels(\n",
    "    [\"700-800\", \"800-900\", \"900-1000\", \"1000-1100\", \"1100-1200\", \"1200+\"], rotation=20\n",
    ")\n",
    "plt.savefig(\"high_mw.svg\", bbox_inches=\"tight\")\n",
    "# plt.title('Accuracy by Molecular Weight for high mw test set');"
   ]
  },
  {
   "cell_type": "markdown",
   "metadata": {},
   "source": [
    "### Low molar weight split"
   ]
  },
  {
   "cell_type": "code",
   "execution_count": 19,
   "metadata": {},
   "outputs": [
    {
     "name": "stderr",
     "output_type": "stream",
     "text": [
      "[09:22:33] Can't kekulize mol.  Unkekulized atoms: 0 1 2 3 4 5 6 7 8 9 10 11 12 13 14 15 16 17 18 19\n",
      "[09:22:36] Can't kekulize mol.  Unkekulized atoms: 0 1 2 3 4 5 6 7 8 9 10 11 12 13 14 15 16 17 18 19\n"
     ]
    },
    {
     "data": {
      "text/html": [
       "<div>\n",
       "<style scoped>\n",
       "    .dataframe tbody tr th:only-of-type {\n",
       "        vertical-align: middle;\n",
       "    }\n",
       "\n",
       "    .dataframe tbody tr th {\n",
       "        vertical-align: top;\n",
       "    }\n",
       "\n",
       "    .dataframe thead th {\n",
       "        text-align: right;\n",
       "    }\n",
       "</style>\n",
       "<table border=\"1\" class=\"dataframe\">\n",
       "  <thead>\n",
       "    <tr style=\"text-align: right;\">\n",
       "      <th></th>\n",
       "      <th>Transformer</th>\n",
       "      <th>Graph2Smiles</th>\n",
       "    </tr>\n",
       "  </thead>\n",
       "  <tbody>\n",
       "    <tr>\n",
       "      <th>(25, 50]</th>\n",
       "      <td>2.127660</td>\n",
       "      <td>2.127660</td>\n",
       "    </tr>\n",
       "    <tr>\n",
       "      <th>(50, 75]</th>\n",
       "      <td>17.305315</td>\n",
       "      <td>24.969098</td>\n",
       "    </tr>\n",
       "    <tr>\n",
       "      <th>(75, 100]</th>\n",
       "      <td>35.763576</td>\n",
       "      <td>51.245125</td>\n",
       "    </tr>\n",
       "    <tr>\n",
       "      <th>(100, 125]</th>\n",
       "      <td>55.087844</td>\n",
       "      <td>63.167752</td>\n",
       "    </tr>\n",
       "    <tr>\n",
       "      <th>(125, 150]</th>\n",
       "      <td>68.544739</td>\n",
       "      <td>70.639243</td>\n",
       "    </tr>\n",
       "  </tbody>\n",
       "</table>\n",
       "</div>"
      ],
      "text/plain": [
       "            Transformer  Graph2Smiles\n",
       "(25, 50]       2.127660      2.127660\n",
       "(50, 75]      17.305315     24.969098\n",
       "(75, 100]     35.763576     51.245125\n",
       "(100, 125]    55.087844     63.167752\n",
       "(125, 150]    68.544739     70.639243"
      ]
     },
     "execution_count": 19,
     "metadata": {},
     "output_type": "execute_result"
    }
   ],
   "source": [
    "low_bins = [25, 50, 75, 100, 125, 150]\n",
    "\n",
    "transformer_low = pd.read_csv(\"../data/predictions/transformer_low.csv\")\n",
    "graph2smiles_low = pd.read_csv(\"../data/predictions/graph2smiles_low.csv\")\n",
    "\n",
    "\n",
    "accs_low = pd.DataFrame()\n",
    "\n",
    "for i in (transformer_low, graph2smiles_low):\n",
    "    x = bin_mw_count(i, low_bins)\n",
    "    # concatenate series to dataframe\n",
    "    accs_low = pd.concat([accs_low, x], axis=1)\n",
    "\n",
    "accs_low.columns = [\"Transformer\", \"Graph2Smiles\"]\n",
    "\n",
    "accs_low"
   ]
  },
  {
   "cell_type": "code",
   "execution_count": 21,
   "metadata": {},
   "outputs": [],
   "source": [
    "accs_low.index = low_bins[:-1]\n",
    "\n",
    "accs_low_full = accs_low.melt(ignore_index=False)\n",
    "\n",
    "accs_low_full.columns = [\"model\", \"accuracy\"]"
   ]
  },
  {
   "cell_type": "code",
   "execution_count": 38,
   "metadata": {},
   "outputs": [
    {
     "data": {
      "image/png": "[encoded data removed]",
      "text/plain": [
       "<Figure size 640x480 with 1 Axes>"
      ]
     },
     "metadata": {},
     "output_type": "display_data"
    }
   ],
   "source": [
    "import matplotlib.pyplot as plt\n",
    "import seaborn as sns\n",
    "\n",
    "fig, ax = plt.subplots()\n",
    "sns.barplot(\n",
    "    data=accs_low_full,\n",
    "    y=\"accuracy\",\n",
    "    x=accs_low_full.index,\n",
    "    hue=\"model\",\n",
    "    palette={\"Transformer\": \"#DB5B68\", \"Graph2Smiles\": \"#8B0AA5\"},\n",
    ")\n",
    "plt.ylabel(\"\")\n",
    "plt.ylim((0, 75))\n",
    "ax.set_xticklabels([\"25-50\", \"50-75\", \"75-100\", \"100-125\", \"125-150\"], rotation=0)\n",
    "plt.savefig(\"low_mw.svg\", bbox_inches=\"tight\")\n",
    "# plt.title('Accuracy by Molecular Weight for low mw test set');"
   ]
  }
 ],
 "metadata": {
  "kernelspec": {
   "display_name": "Python 3.8.17 ('choriso')",
   "language": "python",
   "name": "python3"
  },
  "language_info": {
   "codemirror_mode": {
    "name": "ipython",
    "version": 3
   },
   "file_extension": ".py",
   "mimetype": "text/x-python",
   "name": "python",
   "nbconvert_exporter": "python",
   "pygments_lexer": "ipython3",
   "version": "3.8.17"
  },
  "orig_nbformat": 4,
  "vscode": {
   "interpreter": {
    "hash": "1905fa2d1ad0da17fddbe6e2dc0ef8b6f683a612e71d7eaa1eb05fd3563e631c"
   }
  }
 },
 "nbformat": 4,
 "nbformat_minor": 2
}
