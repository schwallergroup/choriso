{
 "cells": [
  {
   "cell_type": "markdown",
   "metadata": {},
   "source": [
    "## Checking molar weight bin effect on top-1 accuracy"
   ]
  },
  {
   "cell_type": "code",
   "execution_count": 1,
   "metadata": {},
   "outputs": [],
   "source": [
    "import numpy as np\n",
    "import pandas as pd\n",
    "from rdkit import Chem\n",
    "from rdkit.Chem import AllChem\n",
    "from rdkit.Chem.Descriptors import MolWt"
   ]
  },
  {
   "cell_type": "markdown",
   "metadata": {},
   "source": [
    "Load high molar weight splits predictions"
   ]
  },
  {
   "cell_type": "code",
   "execution_count": 2,
   "metadata": {},
   "outputs": [],
   "source": [
    "transformer_high = pd.read_csv(\n",
    "    \"../../choriso-models/predictions/Transformer_high.csv\"\n",
    ")\n",
    "graph2smiles_high = pd.read_csv(\n",
    "    \"../../choriso-models/predictions/Graph2smiles_high.csv\"\n",
    ")"
   ]
  },
  {
   "cell_type": "markdown",
   "metadata": {},
   "source": [
    "Define bin count function"
   ]
  },
  {
   "cell_type": "code",
   "execution_count": 54,
   "metadata": {},
   "outputs": [],
   "source": [
    "def bin_mw_count(df, bins):\n",
    "    df[\"target_mw\"] = df[\"target\"].apply(\n",
    "        lambda x: MolWt(Chem.MolFromSmiles(x))\n",
    "        if Chem.MolFromSmiles(x)\n",
    "        else 1000\n",
    "    )\n",
    "    results = []\n",
    "\n",
    "    for i, row in df.iterrows():\n",
    "        results.append(row[\"target\"] == row[\"pred_0\"])\n",
    "\n",
    "    df[\"correct\"] = results\n",
    "\n",
    "    mw_acc = df.groupby(pd.cut(df[\"target_mw\"], bins)).apply(\n",
    "        lambda x: x[\"correct\"].sum() / len(x) * 100\n",
    "    )\n",
    "\n",
    "    return mw_acc\n",
    "\n",
    "\n",
    "mw_bins = [700, 800, 900, 1000, 1100, 1200]\n",
    "\n",
    "accs = pd.DataFrame()\n",
    "\n",
    "for i in (transformer_high, graph2smiles_high):\n",
    "    x = bin_mw_count(i, mw_bins)\n",
    "    # concatenate series to dataframe\n",
    "    accs = pd.concat([accs, x], axis=1)\n",
    "\n",
    "\n",
    "accs.columns = [\"Transformer\", \"Graph2Smiles\"]\n",
    "\n",
    "accs.index = mw_bins[:-1]\n",
    "\n",
    "\n",
    "# melt dataframe\n",
    "accs_full = accs.melt(ignore_index=False)\n",
    "\n",
    "accs_full.columns = [\"model\", \"accuracy\"]"
   ]
  },
  {
   "cell_type": "markdown",
   "metadata": {},
   "source": [
    "Plot bin count"
   ]
  },
  {
   "cell_type": "markdown",
   "metadata": {},
   "source": [
    "### Low molar weight split"
   ]
  },
  {
   "cell_type": "code",
   "execution_count": 17,
   "metadata": {},
   "outputs": [
    {
     "name": "stderr",
     "output_type": "stream",
     "text": [
      "[15:18:11] Can't kekulize mol.  Unkekulized atoms: 0 1 2 3 4 5 6 7 8 9 10 11 12 13 14 15 16 17 18 19\n",
      "[15:18:14] Can't kekulize mol.  Unkekulized atoms: 0 1 2 3 4 5 6 7 8 9 10 11 12 13 14 15 16 17 18 19\n"
     ]
    },
    {
     "data": {
      "text/html": [
       "<div>\n",
       "<style scoped>\n",
       "    .dataframe tbody tr th:only-of-type {\n",
       "        vertical-align: middle;\n",
       "    }\n",
       "\n",
       "    .dataframe tbody tr th {\n",
       "        vertical-align: top;\n",
       "    }\n",
       "\n",
       "    .dataframe thead th {\n",
       "        text-align: right;\n",
       "    }\n",
       "</style>\n",
       "<table border=\"1\" class=\"dataframe\">\n",
       "  <thead>\n",
       "    <tr style=\"text-align: right;\">\n",
       "      <th></th>\n",
       "      <th>Transformer</th>\n",
       "      <th>Graph2Smiles</th>\n",
       "    </tr>\n",
       "  </thead>\n",
       "  <tbody>\n",
       "    <tr>\n",
       "      <th>(25, 50]</th>\n",
       "      <td>2.127660</td>\n",
       "      <td>2.127660</td>\n",
       "    </tr>\n",
       "    <tr>\n",
       "      <th>(50, 75]</th>\n",
       "      <td>17.305315</td>\n",
       "      <td>24.969098</td>\n",
       "    </tr>\n",
       "    <tr>\n",
       "      <th>(75, 100]</th>\n",
       "      <td>35.763576</td>\n",
       "      <td>51.245125</td>\n",
       "    </tr>\n",
       "    <tr>\n",
       "      <th>(100, 125]</th>\n",
       "      <td>55.087844</td>\n",
       "      <td>63.167752</td>\n",
       "    </tr>\n",
       "    <tr>\n",
       "      <th>(125, 150]</th>\n",
       "      <td>68.544739</td>\n",
       "      <td>70.639243</td>\n",
       "    </tr>\n",
       "  </tbody>\n",
       "</table>\n",
       "</div>"
      ],
      "text/plain": [
       "            Transformer  Graph2Smiles\n",
       "(25, 50]       2.127660      2.127660\n",
       "(50, 75]      17.305315     24.969098\n",
       "(75, 100]     35.763576     51.245125\n",
       "(100, 125]    55.087844     63.167752\n",
       "(125, 150]    68.544739     70.639243"
      ]
     },
     "execution_count": 17,
     "metadata": {},
     "output_type": "execute_result"
    }
   ],
   "source": [
    "low_bins = [25, 50, 75, 100, 125, 150]\n",
    "\n",
    "transformer_low = pd.read_csv(\n",
    "    \"../../choriso-models/predictions/Transformer_low.csv\"\n",
    ")\n",
    "graph2smiles_low = pd.read_csv(\n",
    "    \"../../choriso-models/predictions/Graph2smiles_low.csv\"\n",
    ")\n",
    "\n",
    "accs_low = pd.DataFrame()\n",
    "\n",
    "for i in (transformer_low, graph2smiles_low):\n",
    "    x = bin_mw_count(i, low_bins)\n",
    "    # concatenate series to dataframe\n",
    "    accs_low = pd.concat([accs_low, x], axis=1)\n",
    "\n",
    "accs_low.columns = [\"Transformer\", \"Graph2Smiles\"]\n",
    "\n",
    "accs_low"
   ]
  },
  {
   "cell_type": "code",
   "execution_count": 55,
   "metadata": {},
   "outputs": [],
   "source": [
    "accs_low.index = low_bins[:-1]\n",
    "\n",
    "accs_low_full = accs_low.melt(ignore_index=False)\n",
    "\n",
    "accs_low_full.columns = [\"model\", \"accuracy\"]"
   ]
  },
  {
   "cell_type": "code",
   "execution_count": 66,
   "metadata": {},
   "outputs": [
    {
     "name": "stderr",
     "output_type": "stream",
     "text": [
      "/tmp/ipykernel_3728826/3690210096.py:72: UserWarning: FixedFormatter should only be used together with FixedLocator\n",
      "  ax[0].yaxis.set_ticklabels(labls, fontsize=15)\n"
     ]
    },
    {
     "data": {
      "image/png": "[encoded data removed]",
      "text/plain": [
       "<Figure size 1500x500 with 2 Axes>"
      ]
     },
     "metadata": {},
     "output_type": "display_data"
    }
   ],
   "source": [
    "import matplotlib.pyplot as plt\n",
    "import seaborn as sns\n",
    "\n",
    "fig, ax = plt.subplots(\n",
    "    1,\n",
    "    2,\n",
    "    figsize=(15, 5),\n",
    "    gridspec_kw={\"hspace\": 0, \"wspace\": 0.080},\n",
    "    sharey=True,\n",
    ")\n",
    "\n",
    "sns.barplot(\n",
    "    data=accs_full,\n",
    "    y=\"accuracy\",\n",
    "    x=accs_full.index,\n",
    "    hue=\"model\",\n",
    "    palette={\"Transformer\": \"#DB5B68\", \"Graph2Smiles\": \"#8B0AA5\"},\n",
    "    ax=ax[1],\n",
    "    zorder=4,\n",
    ")\n",
    "\n",
    "# ax[1].ylabel(\"\")\n",
    "ax[1].set_ylabel(\"\")\n",
    "ax[1].set_ylim((0, 75))\n",
    "# set xtick labels\n",
    "ax[1].set_xticklabels(\n",
    "    [\"700-800\", \"800-900\", \"900-1000\", \"1000-1100\", \"1100+\"],  # rotation=20\n",
    ")\n",
    "\n",
    "ax[1].spines[\"left\"].set_visible(False)\n",
    "ax[1].grid(axis=\"y\", zorder=1)\n",
    "\n",
    "\n",
    "# plt.xlim(0,20)\n",
    "# ax.set_xlabel('Number of stereocenters in products')\n",
    "\n",
    "ax[1].spines[\"right\"].set_visible(False)\n",
    "ax[1].spines[\"top\"].set_visible(False)\n",
    "\n",
    "# plt.savefig('num_stereo.svg')\n",
    "# plt.show()\n",
    "# ax[1].savefig(\"high_mw.svg\", bbox_inches=\"tight\")\n",
    "# plt.title('Accuracy by Molecular Weight for high mw test set');\n",
    "\n",
    "sns.barplot(\n",
    "    data=accs_low_full,\n",
    "    y=\"accuracy\",\n",
    "    x=accs_low_full.index,\n",
    "    hue=\"model\",\n",
    "    palette={\"Transformer\": \"#DB5B68\", \"Graph2Smiles\": \"#8B0AA5\"},\n",
    "    ax=ax[0],\n",
    "    zorder=4,\n",
    ")\n",
    "\n",
    "# ax[0].ylabel(\"\")\n",
    "ax[0].set_ylim((0, 75))\n",
    "ax[0].set_xticklabels(\n",
    "    [\"25-50\", \"50-75\", \"75-100\", \"100-125\", \"125-150\"], rotation=0\n",
    ")\n",
    "\n",
    "\n",
    "ax[0].spines[\"right\"].set_visible(False)\n",
    "ax[0].spines[\"left\"].set_visible(False)\n",
    "ax[0].spines[\"top\"].set_visible(False)\n",
    "\n",
    "# ax[0].yaxis.set_label_position(\"right\")\n",
    "ax[0].yaxis.tick_right()\n",
    "ax[0].set_ylabel(\"\")\n",
    "\n",
    "ax[0].grid(axis=\"y\", zorder=1)\n",
    "ax[1].get_legend().remove()\n",
    "\n",
    "labls = ax[0].yaxis.get_ticklabels()\n",
    "ax[0].yaxis.set_ticklabels(labls, fontsize=15)\n",
    "ax[0].legend(loc=0)\n",
    "# ax[0].legend()\n",
    "# ax[0].savefig(\"low_mw.svg\", bbox_inches=\"tight\")\n",
    "# plt.title('Accuracy by Molecular Weight for low mw test set');\n",
    "\n",
    "plt.savefig(\"MW_shift.svg\")\n",
    "# fig"
   ]
  },
  {
   "cell_type": "code",
   "execution_count": 67,
   "metadata": {},
   "outputs": [
    {
     "name": "stdout",
     "output_type": "stream",
     "text": [
      "/home/andres/Documents/choriso-fr/notebooks\n"
     ]
    }
   ],
   "source": [
    "!pwd"
   ]
  },
  {
   "cell_type": "code",
   "execution_count": null,
   "metadata": {},
   "outputs": [],
   "source": []
  }
 ],
 "metadata": {
  "kernelspec": {
   "display_name": "Python 3 (ipykernel)",
   "language": "python",
   "name": "python3"
  },
  "language_info": {
   "codemirror_mode": {
    "name": "ipython",
    "version": 3
   },
   "file_extension": ".py",
   "mimetype": "text/x-python",
   "name": "python",
   "nbconvert_exporter": "python",
   "pygments_lexer": "ipython3",
   "version": "3.9.17"
  },
  "vscode": {
   "interpreter": {
    "hash": "1905fa2d1ad0da17fddbe6e2dc0ef8b6f683a612e71d7eaa1eb05fd3563e631c"
   }
  }
 },
 "nbformat": 4,
 "nbformat_minor": 4
}
